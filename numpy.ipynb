{
 "cells": [
  {
   "cell_type": "markdown",
   "metadata": {},
   "source": [
    "브로드캐스트\n",
    "넘파이는 브로드캐스트라는 기능을 제공하여 형상이 다른 배열끼리의 연산을 수행할 수 있습니다."
   ]
  },
  {
   "cell_type": "code",
   "execution_count": null,
   "metadata": {},
   "outputs": [],
   "source": [
    "import numpy as np\n",
    "A = np.array([1,2],[3,4])\n",
    "print(A*10)"
   ]
  },
  {
   "cell_type": "code",
   "execution_count": null,
   "metadata": {},
   "outputs": [],
   "source": [
    "import numpy as np\n",
    "A = np.array([1,2],[3,4])\n",
    "B = np.array([10,20])\n",
    "print(A*B)"
   ]
  },
  {
   "cell_type": "markdown",
   "metadata": {},
   "source": [
    "벡터의 내적과 행렬의 곱\n",
    "x * y = x1y1 + x2y2 + x3y3 +....+ xnyn\n",
    "x = (x1, .... , xn)\n",
    "y = (y1, .... , yn)\n",
    "벡터의 내적은 두 벡터에서 대응하는 원소들의 곱을 모두 더한 것입니다.\n",
    "벡터의 내적은 직관적으로 '두 벡터가 얼마나 같은 방향을 있는가'를 나타냅니다.\n",
    "벡터의 길이가 1인 경우로 한정하면, 완전히 같은 방향을 두 벡터의 내적은 1이 됩니다.\n",
    "받내로, 반대 방향을 향하는 두 벡터의 내적은 -1입니다."
   ]
  },
  {
   "cell_type": "code",
   "execution_count": 2,
   "metadata": {},
   "outputs": [
    {
     "name": "stdout",
     "output_type": "stream",
     "text": [
      "32\n"
     ]
    }
   ],
   "source": [
    "# 백터의 내적\n",
    "import numpy as np\n",
    "a = np.array([1,2,3])\n",
    "b = np.array([4,5,6])\n",
    "print(np.dot(a,b))"
   ]
  },
  {
   "cell_type": "code",
   "execution_count": 3,
   "metadata": {},
   "outputs": [
    {
     "name": "stdout",
     "output_type": "stream",
     "text": [
      "[[19 22]\n",
      " [43 50]]\n"
     ]
    }
   ],
   "source": [
    "# 행렬으 곱\n",
    "A = np.array([[1,2],[3,4]])\n",
    "B = np.array([[5,6],[7,8]])\n",
    "print(np.matmul(A,B))"
   ]
  },
  {
   "cell_type": "code",
   "execution_count": null,
   "metadata": {},
   "outputs": [],
   "source": [
    "벡터의 내적과 행렬의 곱 모두에 np.dot()을 사용할 수 있습니다. np.dot(x,y)의 인수가 모두 1차원 배열이면 벡터의 내적을 계산하고, 2차원 배열이면 행렬의 곱을 계산합니다.\n",
    "다만, 가능하면 구분하여 코드의 노리와 의도를 명확히 해주는 게 좋습니다."
   ]
  }
 ],
 "metadata": {
  "kernelspec": {
   "display_name": "Python 3",
   "language": "python",
   "name": "python3"
  },
  "language_info": {
   "codemirror_mode": {
    "name": "ipython",
    "version": 3
   },
   "file_extension": ".py",
   "mimetype": "text/x-python",
   "name": "python",
   "nbconvert_exporter": "python",
   "pygments_lexer": "ipython3",
   "version": "3.7.3"
  }
 },
 "nbformat": 4,
 "nbformat_minor": 2
}
