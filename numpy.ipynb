{
 "cells": [
  {
   "cell_type": "markdown",
   "metadata": {},
   "source": [
    "## 브로드캐스트\n",
    "넘파이는 브로드캐스트라는 기능을 제공하여 형상이 다른 배열끼리의 연산을 수행할 수 있습니다."
   ]
  },
  {
   "cell_type": "code",
   "execution_count": 2,
   "metadata": {},
   "outputs": [
    {
     "name": "stdout",
     "output_type": "stream",
     "text": [
      "[[10 20]\n",
      " [30 40]]\n"
     ]
    }
   ],
   "source": [
    "import numpy as np\n",
    "A = np.array([[1,2],[3,4]])\n",
    "print(A*10)"
   ]
  },
  {
   "cell_type": "code",
   "execution_count": null,
   "metadata": {},
   "outputs": [],
   "source": [
    "import numpy as np\n",
    "A = np.array([1,2],[3,4])\n",
    "B = np.array([10,20])\n",
    "print(A*B)"
   ]
  },
  {
   "cell_type": "markdown",
   "metadata": {},
   "source": [
    "벡터의 내적과 행렬의 곱\n",
    "x * y = x1y1 + x2y2 + x3y3 +....+ xnyn\n",
    "x = (x1, .... , xn)\n",
    "y = (y1, .... , yn)\n",
    "벡터의 내적은 두 벡터에서 대응하는 원소들의 곱을 모두 더한 것입니다.\n",
    "벡터의 내적은 직관적으로 '두 벡터가 얼마나 같은 방향을 있는가'를 나타냅니다.\n",
    "벡터의 길이가 1인 경우로 한정하면, 완전히 같은 방향을 두 벡터의 내적은 1이 됩니다.\n",
    "받내로, 반대 방향을 향하는 두 벡터의 내적은 -1입니다."
   ]
  },
  {
   "cell_type": "code",
   "execution_count": 2,
   "metadata": {},
   "outputs": [
    {
     "name": "stdout",
     "output_type": "stream",
     "text": [
      "32\n"
     ]
    }
   ],
   "source": [
    "# 백터의 내적\n",
    "import numpy as np\n",
    "a = np.array([1,2,3])\n",
    "b = np.array([4,5,6])\n",
    "print(np.dot(a,b))"
   ]
  },
  {
   "cell_type": "code",
   "execution_count": 3,
   "metadata": {},
   "outputs": [
    {
     "name": "stdout",
     "output_type": "stream",
     "text": [
      "[[19 22]\n",
      " [43 50]]\n"
     ]
    }
   ],
   "source": [
    "# 행렬으 곱\n",
    "A = np.array([[1,2],[3,4]])\n",
    "B = np.array([[5,6],[7,8]])\n",
    "print(np.matmul(A,B))"
   ]
  },
  {
   "cell_type": "markdown",
   "metadata": {},
   "source": [
    "벡터의 내적과 행렬의 곱 모두에 np.dot()을 사용할 수 있습니다. np.dot(x,y)의 인수가 모두 1차원 배열이면 벡터의 내적을 계산하고, 2차원 배열이면 행렬의 곱을 계산합니다.\n",
    "다만, 가능하면 구분하여 코드의 노리와 의도를 명확히 해주는 게 좋습니다."
   ]
  },
  {
   "cell_type": "markdown",
   "metadata": {},
   "source": [
    "#### numpy.random.randn(do, d1, ..., dn)\n",
    "- Return a sample (or samples) from the \"standard normal\" distribution(표준분포로부터 sample을 반환한다).\n",
    "- 파라메터 d는 차원을 의미하며 d0은 일차원 d1은 이차원... dn은 (n-1) 차원을 나타낸다. \n",
    "- d0을 1로 할 경우 1차원에서 하나의 랜덤수를 반환하며 2일경우 두개 의 랜덤수를 반환합니다."
   ]
  },
  {
   "cell_type": "code",
   "execution_count": 5,
   "metadata": {},
   "outputs": [
    {
     "name": "stdout",
     "output_type": "stream",
     "text": [
      "[0.40185176]\n",
      "[ 1.88051846 -0.01262259]\n",
      "[[ 0.34059703  0.32225623 -0.02431969]\n",
      " [-0.64695192  0.18210189 -0.54517972]]\n"
     ]
    }
   ],
   "source": [
    "print(np.random.randn(1))\n",
    "print(np.random.randn(2))\n",
    "print(np.random.randn(2,3))"
   ]
  },
  {
   "cell_type": "markdown",
   "metadata": {},
   "source": [
    "#### numpy.argmax(a, axis=None, out=None)\n",
    "- Returns the indices of the maximum values along an axis(axis에 따라 maximum values의 색인을 반환한다)."
   ]
  },
  {
   "cell_type": "code",
   "execution_count": 9,
   "metadata": {},
   "outputs": [
    {
     "name": "stdout",
     "output_type": "stream",
     "text": [
      "[[10 11 12]\n",
      " [13 14 15]]\n",
      "5\n",
      "[1 1 1]\n",
      "[2 2]\n"
     ]
    }
   ],
   "source": [
    "a = np.arange(6).reshape(2,3) + 10\n",
    "print(a)\n",
    "print(np.argmax(a)) # 가장 큰 index 반환\n",
    "print(np.argmax(a, axis=0))\n",
    "print(np.argmax(a, axis=1))"
   ]
  },
  {
   "cell_type": "markdown",
   "metadata": {},
   "source": [
    "#### numpy.random.choice(a, size=None, replace=True, p=None)\n",
    "- Generates a random sample from a given 1-D array(1차원 array a에서 무작위로 하나를 반환한다).\n",
    "- p는 a의 각 entry의 확률로 확률이 높은 entry가 반환률이 높다.\n",
    "- p를 None할 경우 a의 entry확률은 uniform distribution하게 할당된다."
   ]
  },
  {
   "cell_type": "code",
   "execution_count": 66,
   "metadata": {},
   "outputs": [
    {
     "name": "stdout",
     "output_type": "stream",
     "text": [
      "8\n",
      "[0 0 1 1 3 3 0 3 0 3]\n"
     ]
    }
   ],
   "source": [
    "print(np.random.choice(10)) # 10 미만으로 무작위 하나 반화\n",
    "print(np.random.choice(4,10)) # 4미만으로 10개 반환"
   ]
  },
  {
   "cell_type": "markdown",
   "metadata": {},
   "source": [
    "##### np.random.randint(low, high=None, size=None, dtype='')\n",
    "- Return random integers from low (inclusive) to high (exclusive)(low는 이상의 개념으로 포함되고 high는 미만의 개념이므로 포함되지 않는다)."
   ]
  },
  {
   "cell_type": "code",
   "execution_count": 79,
   "metadata": {},
   "outputs": [
    {
     "name": "stdout",
     "output_type": "stream",
     "text": [
      "1\n"
     ]
    }
   ],
   "source": [
    "print(np.random.randint(0, 10))"
   ]
  },
  {
   "cell_type": "code",
   "execution_count": null,
   "metadata": {},
   "outputs": [],
   "source": []
  },
  {
   "cell_type": "code",
   "execution_count": null,
   "metadata": {},
   "outputs": [],
   "source": []
  },
  {
   "cell_type": "code",
   "execution_count": null,
   "metadata": {},
   "outputs": [],
   "source": []
  }
 ],
 "metadata": {
  "kernelspec": {
   "display_name": "Python 3",
   "language": "python",
   "name": "python3"
  },
  "language_info": {
   "codemirror_mode": {
    "name": "ipython",
    "version": 3
   },
   "file_extension": ".py",
   "mimetype": "text/x-python",
   "name": "python",
   "nbconvert_exporter": "python",
   "pygments_lexer": "ipython3",
   "version": "3.7.6"
  }
 },
 "nbformat": 4,
 "nbformat_minor": 2
}
