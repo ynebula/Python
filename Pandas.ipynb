{
 "cells": [
  {
   "cell_type": "code",
   "execution_count": 1,
   "metadata": {},
   "outputs": [],
   "source": [
    "\n",
    "import numpy as np\n",
    "import pandas as pd\n",
    "\n"
   ]
  },
  {
   "cell_type": "code",
   "execution_count": 3,
   "metadata": {},
   "outputs": [
    {
     "name": "stdout",
     "output_type": "stream",
     "text": [
      "   year  GDP rate     GDP\n",
      "0  2016       2.8  1.637M\n",
      "1  2017       3.1   1.73M\n",
      "2  2018       3.0   1.83M\n"
     ]
    }
   ],
   "source": [
    "# DataFrame\n",
    "# 2차원 자료구조인 DataFrame는 행과 열이 있는 테이블 데이타(Tabular Data)를 받아들이는데, \n",
    "# 아래 예제는 그 한가지 방법으로서 열(column)을 dict의 Key로, 행(row)을 dict의 Value로 한 Dictionary 데이타를 pd.DataFrame()을 \n",
    "# 사용하여 pandas의 Data Frame 자료구조로 변환한 예이다.\n",
    "\n",
    "data = {\n",
    "    'year':[2016, 2017, 2018],\n",
    "    'GDP rate':[2.8, 3.1,3.0],\n",
    "    'GDP':['1.637M','1.73M','1.83M']\n",
    "}\n",
    "df = pd.DataFrame(data)\n",
    "print(df)"
   ]
  },
  {
   "cell_type": "code",
   "execution_count": 5,
   "metadata": {},
   "outputs": [
    {
     "name": "stdout",
     "output_type": "stream",
     "text": [
      "          0         1         2         3\n",
      "0  0.987486  0.093436  0.079588  0.569419\n",
      "1  0.212048  0.423477  0.616043  0.938596\n",
      "2  0.903666  0.517729  0.863030  0.176317\n"
     ]
    }
   ],
   "source": [
    "#3차원 자료구조인 Panel은 Axis 0 (items), Axis 1 (major_axis), Axis 2 (minor_axis) 등 3개의 축을 가지고 있는데, \n",
    "#Axis 0은 그 한 요소가 2차원의 DataFrame 에 해당되며, Axis 1은 DataFrame의 행(row)에 해당되고, \n",
    "#Axis 2는 DataFrame의 열(column)에 해당된다.\n",
    "#아래 예제는 numpy를 사용하여 3차원 난수를 발생시킨 후, 이를 pandas.Panel() 에 적용한 예이다. \n",
    "#출력 결과에 보면, 2 (items) x 3 (major_axis) x 4 (minor_axis) 크기의 Panel 객체가 생성되었음을 알 수 있다. \n",
    "#Panel 객체 p로부터 p[0]을 조회하면, Axis 0 의 첫번째 요소인 DataFrame이 출력됨을 볼 수 있다.\n",
    "\n",
    "data = np.random.rand(2,3,4)\n",
    "p = pd.Panel(data)\n",
    "# print(p) error \n",
    "print(p[0])"
   ]
  },
  {
   "cell_type": "code",
   "execution_count": null,
   "metadata": {},
   "outputs": [],
   "source": []
  }
 ],
 "metadata": {
  "kernelspec": {
   "display_name": "Python 3",
   "language": "python",
   "name": "python3"
  },
  "language_info": {
   "codemirror_mode": {
    "name": "ipython",
    "version": 3
   },
   "file_extension": ".py",
   "mimetype": "text/x-python",
   "name": "python",
   "nbconvert_exporter": "python",
   "pygments_lexer": "ipython3",
   "version": "3.7.6"
  }
 },
 "nbformat": 4,
 "nbformat_minor": 2
}
