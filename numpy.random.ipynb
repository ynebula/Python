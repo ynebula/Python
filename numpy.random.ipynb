{
 "cells": [
  {
   "cell_type": "code",
   "execution_count": null,
   "metadata": {},
   "outputs": [],
   "source": [
    "import numpy as np\n",
    "\n",
    "D, N = 8, 7\n",
    "x = np.random.randn(1, D)                  # 입력\n",
    "y = np.repeat(x, N, axis=0)                # 순전파\n",
    "dy = np.random.randn(N, D)                 # 무작위 기울기\n",
    "dx = np.sum(dy, axis=0, keepdims=True)    # 역전파"
   ]
  },
  {
   "cell_type": "code",
   "execution_count": null,
   "metadata": {},
   "outputs": [],
   "source": []
  },
  {
   "cell_type": "markdown",
   "metadata": {},
   "source": [
    "np.repeat \n",
    "원소 복제를 수행합니다. \n",
    "배열 x를 N번 복제하며, axis는 어느 축 방향으로 복제할지를 조정함\n",
    "\n",
    "np.sum()\n",
    "axis 인수를 설정하여 어느 축 방향으로 합을 구할지 지정합니다.\n",
    "keepdims=True를 설정하여 2차원 배열의 차원 수를 유지합니다.\n",
    "keepdims가 True면 np.sum()의 결과의 형상은 (1,N)이 되면 False면 (N,)이 됩니다.\n",
    "넘파이의 브로드캐스트는 배열의 원소를 복제하며, Repeat 노드를 사용하여 이 기능을 표현할 수 있습니다."
   ]
  },
  {
   "cell_type": "code",
   "execution_count": null,
   "metadata": {},
   "outputs": [],
   "source": [
    "import numpy as np\n",
    "\n",
    "D, N = 8, 7\n",
    "x = np.random.randn(1, D)                   # 입력\n",
    "y = np.sum(dy, axis=0, keepdims=True)      # 순전파              \n",
    "dy = np.random.randn(N, D)                 # 무작위 기울기\n",
    "dx = np.repeat(x, N, axis=0)               # 역전파"
   ]
  },
  {
   "cell_type": "code",
   "execution_count": null,
   "metadata": {},
   "outputs": [],
   "source": [
    "a = np.array([1,2,3])\n",
    "b = np.array([4,5,6])\n",
    "\n",
    "a = b # shallow copy\n",
    "a[...] = b # deep copy"
   ]
  },
  {
   "cell_type": "markdown",
   "metadata": {},
   "source": [
    "밑바닥부터 딥러닝 55 page 참고\n",
    "기울기 값을 설정하는 grads[0][...]=dW 코드에서 점 3개로 이뤄진 생략(ellipse) 기호 (...)를 사용했습니다.\n",
    "이렇게 하면 넘파이 배열이 가리키는 메모리 위치를 조정시킨 다음, 그 위치에 원소들을 덮어씁니다.\n",
    "grads[0]=dW처럼 할당해도 되지만, 생략 기호는 넘파이 배열의 덮어쓰기를 수행합니다. 결국 얕은 복사(shallow copy)냐 깉은 복사(deep copy)냐 차이죠 grads[0]=dW처럼 그냥 할당하면 얕은 복사가 이뤄지고, grands[0][...]=dW처럼 덮어쓰면 깊은복사가 이뤄집니다.\n",
    "\n",
    "생략 기호는 데이터를 덮어쓰기 때문에 변수가 가리키는 메모리 위치가 변하지 않습니다.\n",
    "\n",
    "grads 리스트에는 각 매개변수의 기울기를 저장합니다. 이때 grads 리스트의 각 원소는 넘파이 배열이며, 계층을 생성할 때 한 번만 생성합니다. 그 후로는 항상 생략기호를 이용하므로 이 넘파이 배열의 메모리 주소가 변하는 일 없이 항상 값을 덮어씁니다. 이렇게 하면 기울기를 그룹화하는 작업을 최초에 한 번만 된다는 이점이 생깁니다."
   ]
  },
  {
   "cell_type": "code",
   "execution_count": 2,
   "metadata": {},
   "outputs": [
    {
     "name": "stdout",
     "output_type": "stream",
     "text": [
      "[9 3 0 5 7 2 8 4 6 1]\n"
     ]
    }
   ],
   "source": [
    "import numpy as np\n",
    "print(np.random.permutation(10))"
   ]
  },
  {
   "cell_type": "code",
   "execution_count": null,
   "metadata": {},
   "outputs": [],
   "source": [
    "인수로 N을 주면 0에서 N-1까지의 무작위 순서를 생성해 반환합니다.\n",
    "비고) 인공지능에서 데이터의 인덱스 뒤섞을 때 많이 사용됩니다."
   ]
  }
 ],
 "metadata": {
  "kernelspec": {
   "display_name": "Python 3",
   "language": "python",
   "name": "python3"
  },
  "language_info": {
   "codemirror_mode": {
    "name": "ipython",
    "version": 3
   },
   "file_extension": ".py",
   "mimetype": "text/x-python",
   "name": "python",
   "nbconvert_exporter": "python",
   "pygments_lexer": "ipython3",
   "version": "3.7.6"
  }
 },
 "nbformat": 4,
 "nbformat_minor": 2
}
