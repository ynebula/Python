{
 "cells": [
  {
   "cell_type": "code",
   "execution_count": 2,
   "metadata": {},
   "outputs": [],
   "source": [
    "import os"
   ]
  },
  {
   "cell_type": "code",
   "execution_count": 3,
   "metadata": {},
   "outputs": [
    {
     "name": "stdout",
     "output_type": "stream",
     "text": [
      "C:\\Users\\ynebu\\workspace\\github\\Python\n",
      "['dev-evaluate-in1', 'evaluate-v1.0.py', 'KorQuAD_2.1', 'KorQuAD_v1.0_dev.json', 'KorQuAD_v1.0_train.json']\n"
     ]
    }
   ],
   "source": [
    "print(os.getcwd()) # 현재 경로\n",
    "os.chdir(\"C:\\\\Users\\\\ynebu\\\\workspace\\\\data\\\\korquad\") # 경로 변경\n",
    "print(os.listdir()) # 폴더 내 파일 리스트"
   ]
  }
 ],
 "metadata": {
  "kernelspec": {
   "display_name": "Python 3",
   "language": "python",
   "name": "python3"
  },
  "language_info": {
   "codemirror_mode": {
    "name": "ipython",
    "version": 3
   },
   "file_extension": ".py",
   "mimetype": "text/x-python",
   "name": "python",
   "nbconvert_exporter": "python",
   "pygments_lexer": "ipython3",
   "version": "3.7.6"
  }
 },
 "nbformat": 4,
 "nbformat_minor": 4
}
